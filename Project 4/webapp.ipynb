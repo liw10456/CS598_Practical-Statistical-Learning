{
 "cells": [
  {
   "cell_type": "code",
   "execution_count": null,
   "metadata": {},
   "outputs": [],
   "source": [
    "import streamlit as st\n",
    "import numpy as np\n",
    "import pandas as pd\n",
    "from streamlit_star_rating import st_star_rating"
   ]
  },
  {
   "cell_type": "code",
   "execution_count": null,
   "metadata": {},
   "outputs": [],
   "source": [
    "st.set_page_config(page_title=\"Movie Ratings\", layout=\"wide\")\n",
    "cols_per_row = 5  # Number of tiles per row"
   ]
  },
  {
   "cell_type": "markdown",
   "metadata": {},
   "source": [
    "Import the similarity matrix and movie dataset."
   ]
  },
  {
   "cell_type": "code",
   "execution_count": null,
   "metadata": {},
   "outputs": [],
   "source": [
    "@st.cache_data\n",
    "def load_data():\n",
    "    # Load similarity matrix\n",
    "    similarity_matrix_top30 = pd.read_csv('similarity_matrix_top30.csv', index_col=0)\n",
    "    \n",
    "    # Load popular movies\n",
    "    popular_movies = pd.read_csv('popular_movies.csv', index_col=0)\n",
    "    \n",
    "    # Load and preprocess movies data\n",
    "    movies = pd.read_csv('movies.dat', sep='::', engine='python',\n",
    "                         encoding=\"ISO-8859-1\", header=None, names=['MovieID', 'Title', 'Genres'])\n",
    "    # Simplify genres for movies with multiple genres\n",
    "    movies['Genres'] = movies['Genres'].apply(lambda genre: 'Multiple' if '|' in genre else genre)\n",
    "    \n",
    "    # Load and preprocess rating matrix\n",
    "    rating_matrix = pd.read_csv('Rmat.csv', index_col=0, na_values=['NA'])\n",
    "    rating_matrix = rating_matrix.astype(float)\n",
    "    \n",
    "    return similarity_matrix_top30, movies, popular_movies, rating_matrix"
   ]
  },
  {
   "cell_type": "code",
   "execution_count": null,
   "metadata": {},
   "outputs": [],
   "source": [
    "similarity_matrix_top30, movies, popular_movies, rating_matrix = load_data()"
   ]
  },
  {
   "cell_type": "markdown",
   "metadata": {},
   "source": [
    "Step 5: Implement myIBCF function"
   ]
  },
  {
   "cell_type": "code",
   "execution_count": null,
   "metadata": {},
   "outputs": [],
   "source": [
    "def myIBCF(newuser, similarity_matrix, top_n=10):\n",
    "    # Align the user's ratings with similarity matrix columns\n",
    "    newuser = pd.Series(newuser, index=similarity_matrix.columns)\n",
    "\n",
    "    # Identify unrated movies\n",
    "    unrated_movies = newuser.isna()\n",
    "\n",
    "    # Filter the similarity matrix for movies the user has rated\n",
    "    rated_movies = newuser.dropna()\n",
    "    similar_movies_matrix = similarity_matrix.loc[rated_movies.index]  # Similarity matrix for rated movies\n",
    "\n",
    "    # Weighted sum and normalization (vectorized)\n",
    "    weighted_sums = np.dot(similar_movies_matrix.T, rated_movies)  # Dot product\n",
    "\n",
    "    # Calculate normalization factor (sum of valid similarities for each movie)\n",
    "    normalizations = similarity_matrix.notna().sum(axis=1)  # Sum of valid similarities per movie\n",
    "\n",
    "    # Ensure normalizations is a vector with the same length as weighted_sums\n",
    "    if weighted_sums.shape != normalizations.shape:\n",
    "        raise ValueError(f\"Shapes of weighted_sums ({weighted_sums.shape}) and normalizations ({normalizations.shape}) do not match\")\n",
    "\n",
    "    # Calculate predictions\n",
    "    predictions = weighted_sums / normalizations\n",
    "    predictions = predictions[unrated_movies]  # Filter only unrated movies\n",
    "\n",
    "    # Sort the predictions\n",
    "    predicted_ratings = predictions.sort_values(ascending=False)\n",
    "\n",
    "    # Select top_n recommendations\n",
    "    top_recommendations = predicted_ratings.head(top_n)\n",
    "\n",
    "    # If there are fewer than `top_n` recommendations, fill the gap with popular movies\n",
    "    if len(top_recommendations) < top_n:\n",
    "        print(\"Non-NA Recommendations are < 10\")\n",
    "\n",
    "        # Get movies already rated by the user\n",
    "        already_rated = newuser.dropna().index.astype(str)\n",
    "\n",
    "        # Prepare the movie dataset for fallback\n",
    "        popular_movies_with_m = popular_movies.copy()\n",
    "        popular_movies_with_m['MovieID'] = 'm' + popular_movies_with_m['MovieID'].astype(str)\n",
    "        popular_movies_with_m.set_index('MovieID', inplace=True)\n",
    "\n",
    "        # Find movies that are not recommended or already rated\n",
    "        remaining_popularity = popular_movies_with_m.index.difference(\n",
    "            top_recommendations.index.union(already_rated.astype(str))\n",
    "        )\n",
    "\n",
    "        # Sort remaining popular movies based on their average rating\n",
    "        remaining_popularity_sorted = popular_movies_with_m.loc[remaining_popularity].sort_values(by='AvgRating', ascending=False)\n",
    "\n",
    "        # Get the top remaining popular movies to fill the gap\n",
    "        fallback = remaining_popularity_sorted.head(top_n - len(top_recommendations))\n",
    "\n",
    "        # Add fallback recommendations to top recommendations\n",
    "        top_recommendations = pd.concat([top_recommendations, fallback[\"AvgRating\"]])\n",
    "\n",
    "        # Remove already rated movies from the final recommendations\n",
    "        top_recommendations = top_recommendations[~top_recommendations.index.isin(already_rated)]\n",
    "\n",
    "    # Ensure only top_n recommendations are returned\n",
    "    return top_recommendations.head(top_n)\n"
   ]
  },
  {
   "cell_type": "markdown",
   "metadata": {},
   "source": [
    "<!-- Title of the application<br>\n",
    "t.title(\"Movie Recommendation System\") -->"
   ]
  },
  {
   "cell_type": "code",
   "execution_count": null,
   "metadata": {},
   "outputs": [],
   "source": [
    "# Define custom button styles using Streamlit's markdown capabilities\n",
    "button_style = \"\"\"\n",
    "<style>\n",
    "div.stButton > button {\n",
    "    background-color: #4CAF50; /* Green background */\n",
    "    color: white;\n",
    "    border: none;\n",
    "    text-align: center;\n",
    "    text-decoration: none;\n",
    "    display: inline-block;\n",
    "    font-size: 16px;\n",
    "    cursor: pointer;\n",
    "    border-radius: 5px;\n",
    "    position: relative;\n",
    "    margin-left:45%\n",
    "}\n",
    "</style>\n",
    "\"\"\"\n",
    "st.markdown(button_style, unsafe_allow_html=True)\n",
    "\n",
    "top_movies = popular_movies.head(200)"
   ]
  },
  {
   "cell_type": "markdown",
   "metadata": {},
   "source": [
    "Layout for tiles with row-spanning"
   ]
  },
  {
   "cell_type": "code",
   "execution_count": null,
   "metadata": {},
   "outputs": [],
   "source": [
    "num_movies = len(top_movies)"
   ]
  },
  {
   "cell_type": "code",
   "execution_count": null,
   "metadata": {},
   "outputs": [],
   "source": [
    "if 'expander_expanded' not in st.session_state:\n",
    "    st.session_state.expander_expanded = True"
   ]
  },
  {
   "cell_type": "code",
   "execution_count": null,
   "metadata": {},
   "outputs": [],
   "source": [
    "POSTER_URL_TEMPLATE = \"https://liangfgithub.github.io/MovieImages/{}.jpg\""
   ]
  },
  {
   "cell_type": "markdown",
   "metadata": {},
   "source": [
    "Dynamically calculate the row span"
   ]
  },
  {
   "cell_type": "code",
   "execution_count": null,
   "metadata": {},
   "outputs": [],
   "source": [
    "with st.expander(\"\", expanded=st.session_state.expander_expanded):\n",
    "    st.html(\n",
    "    \"<h3 style='text-align:center;'>Step 1: Give Your Ratings</h3>\")\n",
    "    with st.container(height=800):\n",
    "        # 初始化 ratings 字典\n",
    "        if 'ratings' not in st.session_state:\n",
    "            st.session_state.ratings = {}\n",
    "\n",
    "        rows = (num_movies + cols_per_row - 1) // cols_per_row  # 計算需要的行數\n",
    "        \n",
    "        # 顯示電影卡片\n",
    "        for i in range(rows):\n",
    "            # 動態創建列\n",
    "            cols = st.columns(cols_per_row)\n",
    "            for j, col in enumerate(cols):\n",
    "                idx = i * cols_per_row + j\n",
    "                if idx < num_movies:\n",
    "                    # 取得當前電影資料\n",
    "                    row = top_movies.iloc[idx]\n",
    "                    movie_id = int(row[\"MovieID\"])  # 確保是 Python 整數\n",
    "                    title = row[\"Title\"]\n",
    "                    poster_url = POSTER_URL_TEMPLATE.format(movie_id)\n",
    "\n",
    "                    # 顯示電影資訊\n",
    "                    with col:\n",
    "                        short_title = title[:20] + \"...\" if len(title) > 20 else title\n",
    "                        st.image(poster_url, caption=short_title, width=200)\n",
    "\n",
    "                        # 星級評分\n",
    "                        star = st_star_rating(\n",
    "                            label=\"Please rate your experience\",\n",
    "                            maxValue=5,\n",
    "                            defaultValue=0,\n",
    "                            size=25,\n",
    "                            key=f\"rating_{movie_id}\",\n",
    "                            customCSS=(\"\"\"\n",
    "                                div#root {background-color:#e6fffb!important;}\n",
    "                                div#root > h3 {font-size:16px!important;} \n",
    "                                div#root > div {padding: 0% 0% 0% 9%;\n",
    "                            \"\"\"),\n",
    "                            emoticons=True\n",
    "                        )\n",
    "                        # 保存評分結果\n",
    "                        st.session_state.ratings[movie_id] = star\n"
   ]
  },
  {
   "cell_type": "markdown",
   "metadata": {},
   "source": [
    "Step 2: submit"
   ]
  },
  {
   "cell_type": "code",
   "execution_count": null,
   "metadata": {},
   "outputs": [],
   "source": [
    "# Custom CSS to style the Streamlit UI\n",
    "st.markdown(\n",
    "    '''\n",
    "    <style>\n",
    "    .stExpander, div#root {\n",
    "        background-color: #e6fffb;\n",
    "    }\n",
    "    div#root {\n",
    "        background-color: #e6fffb !important;\n",
    "    }\n",
    "    </style>\n",
    "    ''',\n",
    "    unsafe_allow_html=True,\n",
    ")\n",
    "\n",
    "# Expander section with centered step instructions\n",
    "with st.expander(\"\", expanded=True):\n",
    "    st.markdown(\n",
    "        \"<h3 style='text-align: center;'>Step 2: Generate Recommendation by clicking on the submit button below</h3>\",\n",
    "        unsafe_allow_html=True,\n",
    "    )\n",
    "    if st.button(\"Submit\"):\n",
    "        # Filter out movies with no ratings\n",
    "        rated_movies = {\n",
    "            movie_id: star\n",
    "            for movie_id, star in st.session_state.ratings.items()\n",
    "            if star > 0\n",
    "        }\n",
    "\n",
    "        # Create a hypothetical user vector\n",
    "        hypothetical_user = np.full(rating_matrix.shape[1], np.nan)\n",
    "        for movie_id, star in rated_movies.items():\n",
    "            movie_index = movies[movies['MovieID'] == movie_id].index[0]\n",
    "            hypothetical_user[movie_index] = star\n",
    "\n",
    "        # Compute recommendations for the hypothetical user\n",
    "        recommendations_hypothetical = myIBCF(hypothetical_user, similarity_matrix_top30)\n",
    "\n",
    "        # Display recommendations\n",
    "        with st.container():\n",
    "            num_movies = len(recommendations_hypothetical)\n",
    "            cols_per_row = 5  # Define number of columns per row\n",
    "            rows = (num_movies + cols_per_row - 1) // cols_per_row  # Calculate rows required\n",
    "\n",
    "            # Render movie recommendations in a grid\n",
    "            for i in range(rows):\n",
    "                cols = st.columns(cols_per_row)  # Dynamically create columns\n",
    "                for j in range(cols_per_row):\n",
    "                    idx = i * cols_per_row + j\n",
    "                    if idx < num_movies:\n",
    "                        # Extract movie details\n",
    "                        movie_id = recommendations_hypothetical.index[idx]\n",
    "                        movie_id = str(movie_id)[1:]  # Remove 'm' prefix\n",
    "                        row = movies[movies['MovieID'] == int(movie_id)]\n",
    "                        if not row.empty:\n",
    "                            title, genres = row.iloc[0][['Title', 'Genres']]\n",
    "                            poster_url = POSTER_URL_TEMPLATE.format(movie_id)\n",
    "\n",
    "                            with cols[j]:\n",
    "                                # Display movie title, poster, and genres\n",
    "                                st.markdown(f'<h5>#{idx + 1} choice</h5>', unsafe_allow_html=True)\n",
    "                                st.image(poster_url, caption=title, width=200)\n",
    "                                st.html(\"<span style='padding-left:25%'>\"f'{genres}'\"</span>\")\n"
   ]
  }
 ],
 "metadata": {
  "kernelspec": {
   "display_name": "Python 3 (ipykernel)",
   "language": "python",
   "name": "python3"
  },
  "language_info": {
   "codemirror_mode": {
    "name": "ipython",
    "version": 3
   },
   "file_extension": ".py",
   "mimetype": "text/x-python",
   "name": "python",
   "nbconvert_exporter": "python",
   "pygments_lexer": "ipython3",
   "version": "3.12.4"
  }
 },
 "nbformat": 4,
 "nbformat_minor": 4
}
