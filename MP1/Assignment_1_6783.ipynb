{
 "cells": [
  {
   "cell_type": "code",
   "execution_count": 1,
   "metadata": {},
   "outputs": [
    {
     "data": {
      "text/html": [
       "<style>\n",
       "table {float:left}\n",
       "</style>\n"
      ],
      "text/plain": [
       "<IPython.core.display.HTML object>"
      ]
     },
     "metadata": {},
     "output_type": "display_data"
    }
   ],
   "source": [
    "%%html\n",
    "<style>\n",
    "table {float:left}\n",
    "</style>"
   ]
  },
  {
   "cell_type": "markdown",
   "metadata": {},
   "source": [
    "<style>\n",
    "table {float:left}\n",
    "</style>\n",
    "<br>\n",
    "<h3>Group Members:</h3>\n",
    "\n",
    "| Name | UIN |\n",
    "| :- | :----------:\n",
    "| Wu, Hong  | 657118011 \n",
    "| Li, WenChing | 653726783 \n",
    "|   |"
   ]
  },
  {
   "cell_type": "markdown",
   "metadata": {},
   "source": [
    "<h4>Part 1-1: Generate Data</h4>\n",
    "<p>First generate the 20 centers from two-dimensional normal and randomly split them into two classes of 10. You can use any mean and covariance structure. You should not regenerate the centers. Use these 20 centers throughout this simulation study.</p>"
   ]
  },
  {
   "cell_type": "code",
   "execution_count": 2,
   "metadata": {},
   "outputs": [
    {
     "ename": "ModuleNotFoundError",
     "evalue": "No module named 'matplotlib'",
     "output_type": "error",
     "traceback": [
      "\u001b[0;31m---------------------------------------------------------------------------\u001b[0m",
      "\u001b[0;31mModuleNotFoundError\u001b[0m                       Traceback (most recent call last)",
      "Cell \u001b[0;32mIn[2], line 2\u001b[0m\n\u001b[1;32m      1\u001b[0m \u001b[38;5;28;01mimport\u001b[39;00m \u001b[38;5;21;01mnumpy\u001b[39;00m \u001b[38;5;28;01mas\u001b[39;00m \u001b[38;5;21;01mnp\u001b[39;00m\n\u001b[0;32m----> 2\u001b[0m \u001b[38;5;28;01mimport\u001b[39;00m \u001b[38;5;21;01mmatplotlib_inline\u001b[39;00m\u001b[38;5;21;01m.\u001b[39;00m\u001b[38;5;21;01mpyplot\u001b[39;00m \u001b[38;5;28;01mas\u001b[39;00m \u001b[38;5;21;01mplt\u001b[39;00m\n\u001b[1;32m      3\u001b[0m \u001b[38;5;28;01mfrom\u001b[39;00m \u001b[38;5;21;01msklearn\u001b[39;00m\u001b[38;5;21;01m.\u001b[39;00m\u001b[38;5;21;01mneighbors\u001b[39;00m \u001b[38;5;28;01mimport\u001b[39;00m KNeighborsClassifier \u001b[38;5;28;01mas\u001b[39;00m knn\n\u001b[1;32m      4\u001b[0m \u001b[38;5;28;01mfrom\u001b[39;00m \u001b[38;5;21;01msklearn\u001b[39;00m \u001b[38;5;28;01mimport\u001b[39;00m linear_model \u001b[38;5;28;01mas\u001b[39;00m lm\n",
      "File \u001b[0;32m/opt/homebrew/Cellar/jupyterlab/4.2.3/libexec/lib/python3.12/site-packages/matplotlib_inline/__init__.py:1\u001b[0m\n\u001b[0;32m----> 1\u001b[0m \u001b[38;5;28;01mfrom\u001b[39;00m \u001b[38;5;21;01m.\u001b[39;00m \u001b[38;5;28;01mimport\u001b[39;00m backend_inline, config  \u001b[38;5;66;03m# noqa\u001b[39;00m\n\u001b[1;32m      2\u001b[0m __version__ \u001b[38;5;241m=\u001b[39m \u001b[38;5;124m\"\u001b[39m\u001b[38;5;124m0.1.7\u001b[39m\u001b[38;5;124m\"\u001b[39m  \u001b[38;5;66;03m# noqa\u001b[39;00m\n",
      "File \u001b[0;32m/opt/homebrew/Cellar/jupyterlab/4.2.3/libexec/lib/python3.12/site-packages/matplotlib_inline/backend_inline.py:6\u001b[0m\n\u001b[1;32m      1\u001b[0m \u001b[38;5;124;03m\"\"\"A matplotlib backend for publishing figures via display_data\"\"\"\u001b[39;00m\n\u001b[1;32m      3\u001b[0m \u001b[38;5;66;03m# Copyright (c) IPython Development Team.\u001b[39;00m\n\u001b[1;32m      4\u001b[0m \u001b[38;5;66;03m# Distributed under the terms of the BSD 3-Clause License.\u001b[39;00m\n\u001b[0;32m----> 6\u001b[0m \u001b[38;5;28;01mimport\u001b[39;00m \u001b[38;5;21;01mmatplotlib\u001b[39;00m\n\u001b[1;32m      7\u001b[0m \u001b[38;5;28;01mfrom\u001b[39;00m \u001b[38;5;21;01mmatplotlib\u001b[39;00m \u001b[38;5;28;01mimport\u001b[39;00m colors\n\u001b[1;32m      8\u001b[0m \u001b[38;5;28;01mfrom\u001b[39;00m \u001b[38;5;21;01mmatplotlib\u001b[39;00m\u001b[38;5;21;01m.\u001b[39;00m\u001b[38;5;21;01mbackends\u001b[39;00m \u001b[38;5;28;01mimport\u001b[39;00m backend_agg\n",
      "\u001b[0;31mModuleNotFoundError\u001b[0m: No module named 'matplotlib'"
     ]
    }
   ],
   "source": [
    "import numpy as np\n",
    "import matplotlib.pyplot as plt\n",
    "from sklearn.neighbors import KNeighborsClassifier as knn\n",
    "from sklearn import linear_model as lm\n",
    "import scipy.stats as ss\n",
    "\n",
    "np.random.seed(100)\n",
    "\n",
    "csize = 10 #每個類別有 10 個點\n",
    "p = 2\n",
    "s = 1      # sd for generating x       \n",
    "m1 = [1,0]\n",
    "m0 = [0,1]\n",
    "\n",
    "mean = np.array([0, 0])\n",
    "cov = np.array([m1,m0])\n",
    "\n",
    "distr = ss.multivariate_normal(cov = cov, mean = mean)\n",
    "\n",
    "m1 = distr.rvs(size = csize) + np.array([0, 1.5]) #確保中心點不會重新生成: rvs => generates random deviates \n",
    "m0 = distr.rvs(size = csize) + np.array([1.5, 0])\n",
    "\n",
    "plt.scatter(m0[:,0], m0[:,1], marker = 'x', s = 50, c = \"red\", label='Class 0') ##([x 座標值],[y 座標值],marker=標籤樣式,s=標籤面積,c=color ,label)\n",
    "plt.scatter(m1[:,0], m1[:,1], marker = 'x', s = 50, c = \"blue\", label='Class 1')\n",
    "\n",
    "plt.legend()\n",
    "plt.show()"
   ]
  },
  {
   "cell_type": "markdown",
   "metadata": {},
   "source": [
    "<h4>Part 1-2</h4>\n",
    "<p>Given the 20 centers, generate a training sample of size 200 (100 from each class) and a test sample of size 10,000 (5,000 from each class).</p>"
   ]
  },
  {
   "cell_type": "code",
   "execution_count": null,
   "metadata": {},
   "outputs": [],
   "source": [
    "''' \n",
    "def helper(n, centers, cov):\n",
    "    # 隨機分配 n 個樣本到中心點\n",
    "    num_centers = len(centers) // 2  # 假設中心點數量是每個類別的兩倍\n",
    "    ids = np.random.randint(num_centers, size = n)\n",
    "    \n",
    "    # 生成數據\n",
    "    data = np.random.multivariate_normal(centers[ids], cov)\n",
    "    \n",
    "    # 生成標籤\n",
    "    y = np.concatenate(([1]*n, [0]*n))\n",
    "    \n",
    "    return (data, y)\n",
    "\n",
    "\n",
    "centers = np.array([[0, 2], [2, 0]])  # 簡化為兩個中心點\n",
    "cov = np.array([[1, 0], [0, 1]])  # 簡化為單位協方差矩陣\n",
    "\n",
    "training_sample = 100 #generate a training sample of size 200 (100 from each class)\n",
    "(traindata, ytrain) = helper(training_sample)\n",
    "\n",
    "test_sample = 5000 #generate a test sample of size 10,000 (5,000 from each class).\n",
    "(testdata, ytest) = helper(test_sample)\n",
    "''' "
   ]
  },
  {
   "cell_type": "markdown",
   "metadata": {},
   "source": [
    "<h4>Part 1-3</h4>\n",
    "<p>Produce a scatter plot of the training data:</br>\n",
    "•assign different colors to the two classes of data points;</br>\n",
    "•overlay the 20 centers on this scatter plot, using a distinguishing marker (e.g., a star or a different</br>\n",
    "shape) and color them according to their respective class.</p>"
   ]
  },
  {
   "cell_type": "code",
   "execution_count": null,
   "metadata": {},
   "outputs": [],
   "source": [
    "''' \n",
    "class1_data = training_sample[ytrain == 1]\n",
    "class0_data = training_sample[ytrain == 0]\n",
    "\n",
    "# 中心點的類別標籤\n",
    "class1_centers = centers[:csize]\n",
    "class0_centers = centers[csize:]\n",
    "\n",
    "# 繪製散佈圖\n",
    "plt.figure(figsize=(10, 6))\n",
    "\n",
    "# 訓練數據\n",
    "plt.scatter(class1_data[:, 0], class1_data[:, 1], c='blue', marker='o', label='Class 1')\n",
    "plt.scatter(class0_data[:, 0], class0_data[:, 1], c='red', marker='o', label='Class 0')\n",
    "\n",
    "# 中心點\n",
    "plt.scatter(class1_centers[:, 0], class1_centers[:, 1], c='blue', marker='*', s=100, edgecolor='k', label='Center Class 1')\n",
    "plt.scatter(class0_centers[:, 0], class0_centers[:, 1], c='red', marker='*', s=100, edgecolor='k', label='Center Class 0')\n",
    "\n",
    "# 標註\n",
    "plt.xlabel('Feature 1')\n",
    "plt.ylabel('Feature 2')\n",
    "plt.title('Scatter Plot of Training Data with Centers')\n",
    "plt.legend()\n",
    "plt.grid(True)\n",
    "\n",
    "plt.show()\n",
    "''' "
   ]
  }
 ],
 "metadata": {
  "kernelspec": {
   "display_name": "Python 3 (ipykernel)",
   "language": "python",
   "name": "python3"
  },
  "language_info": {
   "codemirror_mode": {
    "name": "ipython",
    "version": 3
   },
   "file_extension": ".py",
   "mimetype": "text/x-python",
   "name": "python",
   "nbconvert_exporter": "python",
   "pygments_lexer": "ipython3",
   "version": "3.12.4"
  }
 },
 "nbformat": 4,
 "nbformat_minor": 4
}
